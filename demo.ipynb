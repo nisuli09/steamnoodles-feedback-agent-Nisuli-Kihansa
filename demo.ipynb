{
 "cells": [
  {
   "cell_type": "markdown",
   "id": "98da4ddd",
   "metadata": {},
   "source": [
    "# SteamNoodles – Demo\n",
    "Quick demo of the two agents."
   ]
  },
  {
   "cell_type": "code",
   "execution_count": null,
   "id": "c60ee438",
   "metadata": {},
   "outputs": [],
   "source": [
    "from agents.feedback_agent import FeedbackAgent\n",
    "from agents.viz_agent import VizAgent\n",
    "\n",
    "fb = FeedbackAgent()\n",
    "print(fb.run(\"The noodles were tasty but our table waited 30 minutes.\").__dict__)\n",
    "\n",
    "viz = VizAgent()\n",
    "res = viz.run(\"last 7 days\", kind=\"bar\")\n",
    "res.out_path"
   ]
  }
 ],
 "metadata": {
  "kernelspec": {
   "display_name": "Python [conda env:base] *",
   "language": "python",
   "name": "conda-base-py"
  },
  "language_info": {
   "codemirror_mode": {
    "name": "ipython",
    "version": 3
   },
   "file_extension": ".py",
   "mimetype": "text/x-python",
   "name": "python",
   "nbconvert_exporter": "python",
   "pygments_lexer": "ipython3",
   "version": "3.13.5"
  }
 },
 "nbformat": 4,
 "nbformat_minor": 5
}
